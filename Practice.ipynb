{
  "cells": [
    {
      "cell_type": "markdown",
      "metadata": {
        "id": "view-in-github",
        "colab_type": "text"
      },
      "source": [
        "<a href=\"https://colab.research.google.com/github/ellaclauz/Practicing-Python/blob/main/Practice.ipynb\" target=\"_parent\"><img src=\"https://colab.research.google.com/assets/colab-badge.svg\" alt=\"Open In Colab\"/></a>"
      ]
    },
    {
      "cell_type": "code",
      "execution_count": 1,
      "metadata": {
        "id": "Ks5dpBPS4lfj"
      },
      "outputs": [],
      "source": [
        "# Import relevant libraries and modules with appropriate aliases --- you will need pandas, seaborn, matplotlib.pyplot, numpy\n",
        "import pandas as pd\n",
        "import matplotlib.pyplot as plt\n",
        "import seaborn as sn\n",
        "import numpy as np"
      ]
    },
    {
      "cell_type": "markdown",
      "metadata": {
        "id": "H5IGFsxZf5Si"
      },
      "source": [
        "Work with the taxis dataset"
      ]
    },
    {
      "cell_type": "code",
      "execution_count": 2,
      "metadata": {
        "id": "U_Q60WLv8ZCM"
      },
      "outputs": [],
      "source": [
        "# Load the taxis dataset from sns into a variable\n",
        "\n",
        "taxis = sn.load_dataset(\"taxis\")"
      ]
    },
    {
      "cell_type": "code",
      "execution_count": 3,
      "metadata": {
        "colab": {
          "base_uri": "https://localhost:8080/",
          "height": 424
        },
        "id": "8F6soGug8cLN",
        "outputId": "246805b3-3be6-4c47-f1e2-5674f0cb8269"
      },
      "outputs": [
        {
          "output_type": "execute_result",
          "data": {
            "text/plain": [
              "                pickup              dropoff  passengers  distance  fare   tip  \\\n",
              "0  2019-03-23 20:21:09  2019-03-23 20:27:24           1      1.60   7.0  2.15   \n",
              "1  2019-03-04 16:11:55  2019-03-04 16:19:00           1      0.79   5.0  0.00   \n",
              "2  2019-03-27 17:53:01  2019-03-27 18:00:25           1      1.37   7.5  2.36   \n",
              "3  2019-03-10 01:23:59  2019-03-10 01:49:51           1      7.70  27.0  6.15   \n",
              "4  2019-03-30 13:27:42  2019-03-30 13:37:14           3      2.16   9.0  1.10   \n",
              "\n",
              "   tolls  total   color      payment            pickup_zone  \\\n",
              "0    0.0  12.95  yellow  credit card        Lenox Hill West   \n",
              "1    0.0   9.30  yellow         cash  Upper West Side South   \n",
              "2    0.0  14.16  yellow  credit card          Alphabet City   \n",
              "3    0.0  36.95  yellow  credit card              Hudson Sq   \n",
              "4    0.0  13.40  yellow  credit card           Midtown East   \n",
              "\n",
              "            dropoff_zone pickup_borough dropoff_borough  \n",
              "0    UN/Turtle Bay South      Manhattan       Manhattan  \n",
              "1  Upper West Side South      Manhattan       Manhattan  \n",
              "2           West Village      Manhattan       Manhattan  \n",
              "3         Yorkville West      Manhattan       Manhattan  \n",
              "4         Yorkville West      Manhattan       Manhattan  "
            ],
            "text/html": [
              "\n",
              "  <div id=\"df-f139d934-cd95-4e6a-868f-24678a493a38\">\n",
              "    <div class=\"colab-df-container\">\n",
              "      <div>\n",
              "<style scoped>\n",
              "    .dataframe tbody tr th:only-of-type {\n",
              "        vertical-align: middle;\n",
              "    }\n",
              "\n",
              "    .dataframe tbody tr th {\n",
              "        vertical-align: top;\n",
              "    }\n",
              "\n",
              "    .dataframe thead th {\n",
              "        text-align: right;\n",
              "    }\n",
              "</style>\n",
              "<table border=\"1\" class=\"dataframe\">\n",
              "  <thead>\n",
              "    <tr style=\"text-align: right;\">\n",
              "      <th></th>\n",
              "      <th>pickup</th>\n",
              "      <th>dropoff</th>\n",
              "      <th>passengers</th>\n",
              "      <th>distance</th>\n",
              "      <th>fare</th>\n",
              "      <th>tip</th>\n",
              "      <th>tolls</th>\n",
              "      <th>total</th>\n",
              "      <th>color</th>\n",
              "      <th>payment</th>\n",
              "      <th>pickup_zone</th>\n",
              "      <th>dropoff_zone</th>\n",
              "      <th>pickup_borough</th>\n",
              "      <th>dropoff_borough</th>\n",
              "    </tr>\n",
              "  </thead>\n",
              "  <tbody>\n",
              "    <tr>\n",
              "      <th>0</th>\n",
              "      <td>2019-03-23 20:21:09</td>\n",
              "      <td>2019-03-23 20:27:24</td>\n",
              "      <td>1</td>\n",
              "      <td>1.60</td>\n",
              "      <td>7.0</td>\n",
              "      <td>2.15</td>\n",
              "      <td>0.0</td>\n",
              "      <td>12.95</td>\n",
              "      <td>yellow</td>\n",
              "      <td>credit card</td>\n",
              "      <td>Lenox Hill West</td>\n",
              "      <td>UN/Turtle Bay South</td>\n",
              "      <td>Manhattan</td>\n",
              "      <td>Manhattan</td>\n",
              "    </tr>\n",
              "    <tr>\n",
              "      <th>1</th>\n",
              "      <td>2019-03-04 16:11:55</td>\n",
              "      <td>2019-03-04 16:19:00</td>\n",
              "      <td>1</td>\n",
              "      <td>0.79</td>\n",
              "      <td>5.0</td>\n",
              "      <td>0.00</td>\n",
              "      <td>0.0</td>\n",
              "      <td>9.30</td>\n",
              "      <td>yellow</td>\n",
              "      <td>cash</td>\n",
              "      <td>Upper West Side South</td>\n",
              "      <td>Upper West Side South</td>\n",
              "      <td>Manhattan</td>\n",
              "      <td>Manhattan</td>\n",
              "    </tr>\n",
              "    <tr>\n",
              "      <th>2</th>\n",
              "      <td>2019-03-27 17:53:01</td>\n",
              "      <td>2019-03-27 18:00:25</td>\n",
              "      <td>1</td>\n",
              "      <td>1.37</td>\n",
              "      <td>7.5</td>\n",
              "      <td>2.36</td>\n",
              "      <td>0.0</td>\n",
              "      <td>14.16</td>\n",
              "      <td>yellow</td>\n",
              "      <td>credit card</td>\n",
              "      <td>Alphabet City</td>\n",
              "      <td>West Village</td>\n",
              "      <td>Manhattan</td>\n",
              "      <td>Manhattan</td>\n",
              "    </tr>\n",
              "    <tr>\n",
              "      <th>3</th>\n",
              "      <td>2019-03-10 01:23:59</td>\n",
              "      <td>2019-03-10 01:49:51</td>\n",
              "      <td>1</td>\n",
              "      <td>7.70</td>\n",
              "      <td>27.0</td>\n",
              "      <td>6.15</td>\n",
              "      <td>0.0</td>\n",
              "      <td>36.95</td>\n",
              "      <td>yellow</td>\n",
              "      <td>credit card</td>\n",
              "      <td>Hudson Sq</td>\n",
              "      <td>Yorkville West</td>\n",
              "      <td>Manhattan</td>\n",
              "      <td>Manhattan</td>\n",
              "    </tr>\n",
              "    <tr>\n",
              "      <th>4</th>\n",
              "      <td>2019-03-30 13:27:42</td>\n",
              "      <td>2019-03-30 13:37:14</td>\n",
              "      <td>3</td>\n",
              "      <td>2.16</td>\n",
              "      <td>9.0</td>\n",
              "      <td>1.10</td>\n",
              "      <td>0.0</td>\n",
              "      <td>13.40</td>\n",
              "      <td>yellow</td>\n",
              "      <td>credit card</td>\n",
              "      <td>Midtown East</td>\n",
              "      <td>Yorkville West</td>\n",
              "      <td>Manhattan</td>\n",
              "      <td>Manhattan</td>\n",
              "    </tr>\n",
              "  </tbody>\n",
              "</table>\n",
              "</div>\n",
              "      <button class=\"colab-df-convert\" onclick=\"convertToInteractive('df-f139d934-cd95-4e6a-868f-24678a493a38')\"\n",
              "              title=\"Convert this dataframe to an interactive table.\"\n",
              "              style=\"display:none;\">\n",
              "        \n",
              "  <svg xmlns=\"http://www.w3.org/2000/svg\" height=\"24px\"viewBox=\"0 0 24 24\"\n",
              "       width=\"24px\">\n",
              "    <path d=\"M0 0h24v24H0V0z\" fill=\"none\"/>\n",
              "    <path d=\"M18.56 5.44l.94 2.06.94-2.06 2.06-.94-2.06-.94-.94-2.06-.94 2.06-2.06.94zm-11 1L8.5 8.5l.94-2.06 2.06-.94-2.06-.94L8.5 2.5l-.94 2.06-2.06.94zm10 10l.94 2.06.94-2.06 2.06-.94-2.06-.94-.94-2.06-.94 2.06-2.06.94z\"/><path d=\"M17.41 7.96l-1.37-1.37c-.4-.4-.92-.59-1.43-.59-.52 0-1.04.2-1.43.59L10.3 9.45l-7.72 7.72c-.78.78-.78 2.05 0 2.83L4 21.41c.39.39.9.59 1.41.59.51 0 1.02-.2 1.41-.59l7.78-7.78 2.81-2.81c.8-.78.8-2.07 0-2.86zM5.41 20L4 18.59l7.72-7.72 1.47 1.35L5.41 20z\"/>\n",
              "  </svg>\n",
              "      </button>\n",
              "      \n",
              "  <style>\n",
              "    .colab-df-container {\n",
              "      display:flex;\n",
              "      flex-wrap:wrap;\n",
              "      gap: 12px;\n",
              "    }\n",
              "\n",
              "    .colab-df-convert {\n",
              "      background-color: #E8F0FE;\n",
              "      border: none;\n",
              "      border-radius: 50%;\n",
              "      cursor: pointer;\n",
              "      display: none;\n",
              "      fill: #1967D2;\n",
              "      height: 32px;\n",
              "      padding: 0 0 0 0;\n",
              "      width: 32px;\n",
              "    }\n",
              "\n",
              "    .colab-df-convert:hover {\n",
              "      background-color: #E2EBFA;\n",
              "      box-shadow: 0px 1px 2px rgba(60, 64, 67, 0.3), 0px 1px 3px 1px rgba(60, 64, 67, 0.15);\n",
              "      fill: #174EA6;\n",
              "    }\n",
              "\n",
              "    [theme=dark] .colab-df-convert {\n",
              "      background-color: #3B4455;\n",
              "      fill: #D2E3FC;\n",
              "    }\n",
              "\n",
              "    [theme=dark] .colab-df-convert:hover {\n",
              "      background-color: #434B5C;\n",
              "      box-shadow: 0px 1px 3px 1px rgba(0, 0, 0, 0.15);\n",
              "      filter: drop-shadow(0px 1px 2px rgba(0, 0, 0, 0.3));\n",
              "      fill: #FFFFFF;\n",
              "    }\n",
              "  </style>\n",
              "\n",
              "      <script>\n",
              "        const buttonEl =\n",
              "          document.querySelector('#df-f139d934-cd95-4e6a-868f-24678a493a38 button.colab-df-convert');\n",
              "        buttonEl.style.display =\n",
              "          google.colab.kernel.accessAllowed ? 'block' : 'none';\n",
              "\n",
              "        async function convertToInteractive(key) {\n",
              "          const element = document.querySelector('#df-f139d934-cd95-4e6a-868f-24678a493a38');\n",
              "          const dataTable =\n",
              "            await google.colab.kernel.invokeFunction('convertToInteractive',\n",
              "                                                     [key], {});\n",
              "          if (!dataTable) return;\n",
              "\n",
              "          const docLinkHtml = 'Like what you see? Visit the ' +\n",
              "            '<a target=\"_blank\" href=https://colab.research.google.com/notebooks/data_table.ipynb>data table notebook</a>'\n",
              "            + ' to learn more about interactive tables.';\n",
              "          element.innerHTML = '';\n",
              "          dataTable['output_type'] = 'display_data';\n",
              "          await google.colab.output.renderOutput(dataTable, element);\n",
              "          const docLink = document.createElement('div');\n",
              "          docLink.innerHTML = docLinkHtml;\n",
              "          element.appendChild(docLink);\n",
              "        }\n",
              "      </script>\n",
              "    </div>\n",
              "  </div>\n",
              "  "
            ]
          },
          "metadata": {},
          "execution_count": 3
        }
      ],
      "source": [
        "# Display the first few rows of the taxis dataset\n",
        "\n",
        "taxis.head()"
      ]
    },
    {
      "cell_type": "code",
      "execution_count": 4,
      "metadata": {
        "colab": {
          "base_uri": "https://localhost:8080/"
        },
        "id": "XCFXEcsxB_b0",
        "outputId": "20c7cd8d-c028-4004-f6a1-8f3494472152"
      },
      "outputs": [
        {
          "output_type": "execute_result",
          "data": {
            "text/plain": [
              "(6433, 14)"
            ]
          },
          "metadata": {},
          "execution_count": 4
        }
      ],
      "source": [
        "# Display number of rows, number of columns in the taxis dataset\n",
        "\n",
        "taxis.shape"
      ]
    },
    {
      "cell_type": "code",
      "execution_count": 5,
      "metadata": {
        "colab": {
          "base_uri": "https://localhost:8080/"
        },
        "id": "wMyWado5kJt1",
        "outputId": "6e07204e-75d5-40da-fbb4-13ec947977cd"
      },
      "outputs": [
        {
          "output_type": "execute_result",
          "data": {
            "text/plain": [
              "6433"
            ]
          },
          "metadata": {},
          "execution_count": 5
        }
      ],
      "source": [
        "# Display number of rows in taxis dataset\n",
        "\n",
        "taxis.shape[0]"
      ]
    },
    {
      "cell_type": "code",
      "execution_count": 6,
      "metadata": {
        "colab": {
          "base_uri": "https://localhost:8080/"
        },
        "id": "7783iqwNkMy7",
        "outputId": "ba2f3ed7-06c5-45f6-c040-09c0b8e7354f"
      },
      "outputs": [
        {
          "output_type": "execute_result",
          "data": {
            "text/plain": [
              "14"
            ]
          },
          "metadata": {},
          "execution_count": 6
        }
      ],
      "source": [
        "# Display number of columns in taxis dataset\n",
        "\n",
        "taxis.shape[1]"
      ]
    },
    {
      "cell_type": "code",
      "execution_count": null,
      "metadata": {
        "colab": {
          "base_uri": "https://localhost:8080/"
        },
        "id": "fLQeyc6PhlQa",
        "outputId": "67f41f98-022d-4b9c-d52d-211d469e8577"
      },
      "outputs": [
        {
          "data": {
            "text/plain": [
              "pickup              object\n",
              "dropoff             object\n",
              "passengers           int64\n",
              "distance           float64\n",
              "fare               float64\n",
              "tip                float64\n",
              "tolls              float64\n",
              "total              float64\n",
              "color               object\n",
              "payment             object\n",
              "pickup_zone         object\n",
              "dropoff_zone        object\n",
              "pickup_borough      object\n",
              "dropoff_borough     object\n",
              "dtype: object"
            ]
          },
          "execution_count": 12,
          "metadata": {},
          "output_type": "execute_result"
        }
      ],
      "source": [
        "# Display the data types in the taxis dataset\n",
        "\n",
        "taxis.dtypes"
      ]
    },
    {
      "cell_type": "code",
      "execution_count": 7,
      "metadata": {
        "colab": {
          "base_uri": "https://localhost:8080/",
          "height": 265
        },
        "id": "dBQt_pQ0HY4v",
        "outputId": "991e3068-dbd3-41d1-a549-b6995dc3ddd7"
      },
      "outputs": [
        {
          "output_type": "display_data",
          "data": {
            "text/plain": [
              "<Figure size 432x288 with 1 Axes>"
            ],
            "image/png": "[encoded data removed]"
          },
          "metadata": {
            "needs_background": "light"
          }
        }
      ],
      "source": [
        "# Plot the distribution for distance\n",
        "\n",
        "plt.hist(taxis[\"distance\"])\n",
        "plt.show()"
      ]
    },
    {
      "cell_type": "code",
      "execution_count": 8,
      "metadata": {
        "colab": {
          "base_uri": "https://localhost:8080/"
        },
        "id": "ShMHPcqpEmlK",
        "outputId": "d758bcaf-2c9e-48d4-a1e3-69de00a96850"
      },
      "outputs": [
        {
          "output_type": "execute_result",
          "data": {
            "text/plain": [
              "3.024616819524328"
            ]
          },
          "metadata": {},
          "execution_count": 8
        }
      ],
      "source": [
        "# Compute the mean for distance\n",
        "np.mean(taxis[\"distance\"])\n"
      ]
    },
    {
      "cell_type": "code",
      "execution_count": 9,
      "metadata": {
        "colab": {
          "base_uri": "https://localhost:8080/"
        },
        "id": "z5B9MRW1psJ6",
        "outputId": "3beb3db8-f05b-4bc9-b345-144b6a28fc80"
      },
      "outputs": [
        {
          "output_type": "execute_result",
          "data": {
            "text/plain": [
              "3.0246168195243133"
            ]
          },
          "metadata": {},
          "execution_count": 9
        }
      ],
      "source": [
        "#manually computing the mean\n",
        "sum(taxis[\"distance\"]) / len(taxis[\"distance\"])"
      ]
    },
    {
      "cell_type": "code",
      "execution_count": 10,
      "metadata": {
        "colab": {
          "base_uri": "https://localhost:8080/"
        },
        "id": "dPS5DzqtGTgU",
        "outputId": "ed48e05d-c23f-429b-8e58-3e8553004301"
      },
      "outputs": [
        {
          "output_type": "execute_result",
          "data": {
            "text/plain": [
              "1.64"
            ]
          },
          "metadata": {},
          "execution_count": 10
        }
      ],
      "source": [
        "# Compute the median for distance\n",
        "\n",
        "np.median(taxis[\"distance\"])"
      ]
    },
    {
      "cell_type": "code",
      "execution_count": 11,
      "metadata": {
        "colab": {
          "base_uri": "https://localhost:8080/"
        },
        "id": "u15C6iDaE1qq",
        "outputId": "ce8750bd-f942-455f-b952-dc6f18e02d37"
      },
      "outputs": [
        {
          "output_type": "execute_result",
          "data": {
            "text/plain": [
              "3.827867001011754"
            ]
          },
          "metadata": {},
          "execution_count": 11
        }
      ],
      "source": [
        "# Compute the standard deviation for distance with the ddof parameter set to 1\n",
        "\n",
        "np.std(taxis[\"distance\"], ddof=1)"
      ]
    },
    {
      "cell_type": "code",
      "execution_count": 12,
      "metadata": {
        "colab": {
          "base_uri": "https://localhost:8080/",
          "height": 265
        },
        "id": "1yVr3bvhK7Hd",
        "outputId": "a15c2bfd-7843-485f-f214-53cbc67ac584"
      },
      "outputs": [
        {
          "output_type": "display_data",
          "data": {
            "text/plain": [
              "<Figure size 432x288 with 1 Axes>"
            ],
            "image/png": "[encoded data removed]"
          },
          "metadata": {
            "needs_background": "light"
          }
        }
      ],
      "source": [
        "# Plot the distribution for fare\n",
        "\n",
        "plt.hist(taxis[\"fare\"])\n",
        "plt.show()"
      ]
    },
    {
      "cell_type": "code",
      "execution_count": 13,
      "metadata": {
        "colab": {
          "base_uri": "https://localhost:8080/"
        },
        "id": "qqmUkAFVE40r",
        "outputId": "769212fd-3d0e-4a59-b32f-73d6698ddf1c"
      },
      "outputs": [
        {
          "output_type": "execute_result",
          "data": {
            "text/plain": [
              "13.091072594434944"
            ]
          },
          "metadata": {},
          "execution_count": 13
        }
      ],
      "source": [
        "# Compute the mean for fare\n",
        "\n",
        "np.mean(taxis[\"fare\"])"
      ]
    },
    {
      "cell_type": "code",
      "execution_count": 14,
      "metadata": {
        "colab": {
          "base_uri": "https://localhost:8080/"
        },
        "id": "7ubcgxH1HJjH",
        "outputId": "f3dd88f4-e424-4546-f6cf-bc12cbf7d441"
      },
      "outputs": [
        {
          "output_type": "execute_result",
          "data": {
            "text/plain": [
              "9.5"
            ]
          },
          "metadata": {},
          "execution_count": 14
        }
      ],
      "source": [
        "# Compute the median for fare\n",
        "\n",
        "np.median(taxis[\"fare\"])"
      ]
    },
    {
      "cell_type": "code",
      "execution_count": 15,
      "metadata": {
        "colab": {
          "base_uri": "https://localhost:8080/"
        },
        "id": "vAZBR53sE40s",
        "outputId": "f4530d5f-2c3b-4419-9084-4c2a1dbe0239"
      },
      "outputs": [
        {
          "output_type": "execute_result",
          "data": {
            "text/plain": [
              "11.551804266414893"
            ]
          },
          "metadata": {},
          "execution_count": 15
        }
      ],
      "source": [
        "# Compute the standard deviation for fare with the ddof parameter set to 1\n",
        "\n",
        "np.std(taxis[\"fare\"], ddof=1)"
      ]
    },
    {
      "cell_type": "code",
      "execution_count": 16,
      "metadata": {
        "colab": {
          "base_uri": "https://localhost:8080/",
          "height": 279
        },
        "id": "ikpI_rbE8c8_",
        "outputId": "285a182f-de84-4caf-840a-f221761a780e"
      },
      "outputs": [
        {
          "output_type": "display_data",
          "data": {
            "text/plain": [
              "<Figure size 432x288 with 1 Axes>"
            ],
            "image/png": "[encoded data removed]"
          },
          "metadata": {
            "needs_background": "light"
          }
        }
      ],
      "source": [
        "# Create a scatter plot of fare versus distance\n",
        "\n",
        "sn.scatterplot(data=taxis, x='distance', y='fare')\n",
        "plt.show()"
      ]
    },
    {
      "cell_type": "code",
      "execution_count": 17,
      "metadata": {
        "id": "Eu66BKTe8_j8"
      },
      "outputs": [],
      "source": [
        "# Define a function named standard_units that takes in an array of numbers, converts them to standard units, and returns the result\n",
        "\n",
        "def standard_units(any_numbers):\n",
        "    \"Convert any array of numbers to standard units.\"\n",
        "    return (any_numbers - np.mean(any_numbers))/np.std(any_numbers)  "
      ]
    },
    {
      "cell_type": "code",
      "execution_count": 18,
      "metadata": {
        "id": "ZnOGVRD59IA6"
      },
      "outputs": [],
      "source": [
        "# Define a function named correlation that takes in a DataFrame and labels for the two columns from that DataFrame\n",
        "# and returns the correlation coefficient AKA r\n",
        "\n",
        "def correlation(t, x, y):\n",
        "    return np.mean(standard_units(t[x])*standard_units(t[y]))"
      ]
    },
    {
      "cell_type": "code",
      "execution_count": 19,
      "metadata": {
        "colab": {
          "base_uri": "https://localhost:8080/"
        },
        "id": "hclk4NS29M_7",
        "outputId": "a08bad36-95dd-4a7f-bbe9-0c640b2e9b74"
      },
      "outputs": [
        {
          "output_type": "execute_result",
          "data": {
            "text/plain": [
              "0.9201077027895749"
            ]
          },
          "metadata": {},
          "execution_count": 19
        }
      ],
      "source": [
        "# Compute the correlation coefficient for the correlation between distance and fare\n",
        "\n",
        "correlation(taxis, 'distance', 'fare')"
      ]
    },
    {
      "cell_type": "markdown",
      "metadata": {
        "id": "msGXvYCZf_id"
      },
      "source": [
        "Work with the tips dataset"
      ]
    },
    {
      "cell_type": "code",
      "execution_count": 20,
      "metadata": {
        "id": "HW9kCJcU9V5G"
      },
      "outputs": [],
      "source": [
        "# Load the tips dataset from sns into a variable\n",
        "\n",
        "tips = sn.load_dataset('tips')"
      ]
    },
    {
      "cell_type": "code",
      "execution_count": 21,
      "metadata": {
        "colab": {
          "base_uri": "https://localhost:8080/",
          "height": 206
        },
        "id": "au4CemxkEbcs",
        "outputId": "28df3021-a768-4e05-ffa2-71d1e3467479"
      },
      "outputs": [
        {
          "output_type": "execute_result",
          "data": {
            "text/plain": [
              "   total_bill   tip     sex smoker  day    time  size\n",
              "0       16.99  1.01  Female     No  Sun  Dinner     2\n",
              "1       10.34  1.66    Male     No  Sun  Dinner     3\n",
              "2       21.01  3.50    Male     No  Sun  Dinner     3\n",
              "3       23.68  3.31    Male     No  Sun  Dinner     2\n",
              "4       24.59  3.61  Female     No  Sun  Dinner     4"
            ],
            "text/html": [
              "\n",
              "  <div id=\"df-9173d7e7-58c3-4947-952e-c221145de408\">\n",
              "    <div class=\"colab-df-container\">\n",
              "      <div>\n",
              "<style scoped>\n",
              "    .dataframe tbody tr th:only-of-type {\n",
              "        vertical-align: middle;\n",
              "    }\n",
              "\n",
              "    .dataframe tbody tr th {\n",
              "        vertical-align: top;\n",
              "    }\n",
              "\n",
              "    .dataframe thead th {\n",
              "        text-align: right;\n",
              "    }\n",
              "</style>\n",
              "<table border=\"1\" class=\"dataframe\">\n",
              "  <thead>\n",
              "    <tr style=\"text-align: right;\">\n",
              "      <th></th>\n",
              "      <th>total_bill</th>\n",
              "      <th>tip</th>\n",
              "      <th>sex</th>\n",
              "      <th>smoker</th>\n",
              "      <th>day</th>\n",
              "      <th>time</th>\n",
              "      <th>size</th>\n",
              "    </tr>\n",
              "  </thead>\n",
              "  <tbody>\n",
              "    <tr>\n",
              "      <th>0</th>\n",
              "      <td>16.99</td>\n",
              "      <td>1.01</td>\n",
              "      <td>Female</td>\n",
              "      <td>No</td>\n",
              "      <td>Sun</td>\n",
              "      <td>Dinner</td>\n",
              "      <td>2</td>\n",
              "    </tr>\n",
              "    <tr>\n",
              "      <th>1</th>\n",
              "      <td>10.34</td>\n",
              "      <td>1.66</td>\n",
              "      <td>Male</td>\n",
              "      <td>No</td>\n",
              "      <td>Sun</td>\n",
              "      <td>Dinner</td>\n",
              "      <td>3</td>\n",
              "    </tr>\n",
              "    <tr>\n",
              "      <th>2</th>\n",
              "      <td>21.01</td>\n",
              "      <td>3.50</td>\n",
              "      <td>Male</td>\n",
              "      <td>No</td>\n",
              "      <td>Sun</td>\n",
              "      <td>Dinner</td>\n",
              "      <td>3</td>\n",
              "    </tr>\n",
              "    <tr>\n",
              "      <th>3</th>\n",
              "      <td>23.68</td>\n",
              "      <td>3.31</td>\n",
              "      <td>Male</td>\n",
              "      <td>No</td>\n",
              "      <td>Sun</td>\n",
              "      <td>Dinner</td>\n",
              "      <td>2</td>\n",
              "    </tr>\n",
              "    <tr>\n",
              "      <th>4</th>\n",
              "      <td>24.59</td>\n",
              "      <td>3.61</td>\n",
              "      <td>Female</td>\n",
              "      <td>No</td>\n",
              "      <td>Sun</td>\n",
              "      <td>Dinner</td>\n",
              "      <td>4</td>\n",
              "    </tr>\n",
              "  </tbody>\n",
              "</table>\n",
              "</div>\n",
              "      <button class=\"colab-df-convert\" onclick=\"convertToInteractive('df-9173d7e7-58c3-4947-952e-c221145de408')\"\n",
              "              title=\"Convert this dataframe to an interactive table.\"\n",
              "              style=\"display:none;\">\n",
              "        \n",
              "  <svg xmlns=\"http://www.w3.org/2000/svg\" height=\"24px\"viewBox=\"0 0 24 24\"\n",
              "       width=\"24px\">\n",
              "    <path d=\"M0 0h24v24H0V0z\" fill=\"none\"/>\n",
              "    <path d=\"M18.56 5.44l.94 2.06.94-2.06 2.06-.94-2.06-.94-.94-2.06-.94 2.06-2.06.94zm-11 1L8.5 8.5l.94-2.06 2.06-.94-2.06-.94L8.5 2.5l-.94 2.06-2.06.94zm10 10l.94 2.06.94-2.06 2.06-.94-2.06-.94-.94-2.06-.94 2.06-2.06.94z\"/><path d=\"M17.41 7.96l-1.37-1.37c-.4-.4-.92-.59-1.43-.59-.52 0-1.04.2-1.43.59L10.3 9.45l-7.72 7.72c-.78.78-.78 2.05 0 2.83L4 21.41c.39.39.9.59 1.41.59.51 0 1.02-.2 1.41-.59l7.78-7.78 2.81-2.81c.8-.78.8-2.07 0-2.86zM5.41 20L4 18.59l7.72-7.72 1.47 1.35L5.41 20z\"/>\n",
              "  </svg>\n",
              "      </button>\n",
              "      \n",
              "  <style>\n",
              "    .colab-df-container {\n",
              "      display:flex;\n",
              "      flex-wrap:wrap;\n",
              "      gap: 12px;\n",
              "    }\n",
              "\n",
              "    .colab-df-convert {\n",
              "      background-color: #E8F0FE;\n",
              "      border: none;\n",
              "      border-radius: 50%;\n",
              "      cursor: pointer;\n",
              "      display: none;\n",
              "      fill: #1967D2;\n",
              "      height: 32px;\n",
              "      padding: 0 0 0 0;\n",
              "      width: 32px;\n",
              "    }\n",
              "\n",
              "    .colab-df-convert:hover {\n",
              "      background-color: #E2EBFA;\n",
              "      box-shadow: 0px 1px 2px rgba(60, 64, 67, 0.3), 0px 1px 3px 1px rgba(60, 64, 67, 0.15);\n",
              "      fill: #174EA6;\n",
              "    }\n",
              "\n",
              "    [theme=dark] .colab-df-convert {\n",
              "      background-color: #3B4455;\n",
              "      fill: #D2E3FC;\n",
              "    }\n",
              "\n",
              "    [theme=dark] .colab-df-convert:hover {\n",
              "      background-color: #434B5C;\n",
              "      box-shadow: 0px 1px 3px 1px rgba(0, 0, 0, 0.15);\n",
              "      filter: drop-shadow(0px 1px 2px rgba(0, 0, 0, 0.3));\n",
              "      fill: #FFFFFF;\n",
              "    }\n",
              "  </style>\n",
              "\n",
              "      <script>\n",
              "        const buttonEl =\n",
              "          document.querySelector('#df-9173d7e7-58c3-4947-952e-c221145de408 button.colab-df-convert');\n",
              "        buttonEl.style.display =\n",
              "          google.colab.kernel.accessAllowed ? 'block' : 'none';\n",
              "\n",
              "        async function convertToInteractive(key) {\n",
              "          const element = document.querySelector('#df-9173d7e7-58c3-4947-952e-c221145de408');\n",
              "          const dataTable =\n",
              "            await google.colab.kernel.invokeFunction('convertToInteractive',\n",
              "                                                     [key], {});\n",
              "          if (!dataTable) return;\n",
              "\n",
              "          const docLinkHtml = 'Like what you see? Visit the ' +\n",
              "            '<a target=\"_blank\" href=https://colab.research.google.com/notebooks/data_table.ipynb>data table notebook</a>'\n",
              "            + ' to learn more about interactive tables.';\n",
              "          element.innerHTML = '';\n",
              "          dataTable['output_type'] = 'display_data';\n",
              "          await google.colab.output.renderOutput(dataTable, element);\n",
              "          const docLink = document.createElement('div');\n",
              "          docLink.innerHTML = docLinkHtml;\n",
              "          element.appendChild(docLink);\n",
              "        }\n",
              "      </script>\n",
              "    </div>\n",
              "  </div>\n",
              "  "
            ]
          },
          "metadata": {},
          "execution_count": 21
        }
      ],
      "source": [
        "# Display the first few rows of the tips dataset\n",
        "\n",
        "tips.head()"
      ]
    },
    {
      "cell_type": "code",
      "execution_count": 22,
      "metadata": {
        "colab": {
          "base_uri": "https://localhost:8080/"
        },
        "id": "y2x_wHTUjwJP",
        "outputId": "18629ce4-9ca9-4554-ff57-abaebd919167"
      },
      "outputs": [
        {
          "output_type": "execute_result",
          "data": {
            "text/plain": [
              "(244, 7)"
            ]
          },
          "metadata": {},
          "execution_count": 22
        }
      ],
      "source": [
        "# Display number of rows, number of columns in tips dataset\n",
        "\n",
        "tips.shape"
      ]
    },
    {
      "cell_type": "code",
      "execution_count": 23,
      "metadata": {
        "colab": {
          "base_uri": "https://localhost:8080/"
        },
        "id": "zdm203FAj4TN",
        "outputId": "69584d21-b682-4f0a-bb64-cf35504019ca"
      },
      "outputs": [
        {
          "output_type": "execute_result",
          "data": {
            "text/plain": [
              "244"
            ]
          },
          "metadata": {},
          "execution_count": 23
        }
      ],
      "source": [
        "# Display number of rows in tips dataset\n",
        "\n",
        "tips.shape[0]"
      ]
    },
    {
      "cell_type": "code",
      "execution_count": 24,
      "metadata": {
        "colab": {
          "base_uri": "https://localhost:8080/"
        },
        "id": "3vUKLXjokEtt",
        "outputId": "e0bc6e90-2854-4ce8-f79d-257981d0d9af"
      },
      "outputs": [
        {
          "output_type": "execute_result",
          "data": {
            "text/plain": [
              "7"
            ]
          },
          "metadata": {},
          "execution_count": 24
        }
      ],
      "source": [
        "# Display number of columns in tips dataset\n",
        "\n",
        "tips.shape[1]"
      ]
    },
    {
      "cell_type": "code",
      "execution_count": 25,
      "metadata": {
        "colab": {
          "base_uri": "https://localhost:8080/"
        },
        "id": "EvIN-DxugHBu",
        "outputId": "9331e10e-d784-407e-9a12-c237d10d425c"
      },
      "outputs": [
        {
          "output_type": "execute_result",
          "data": {
            "text/plain": [
              "total_bill     float64\n",
              "tip            float64\n",
              "sex           category\n",
              "smoker        category\n",
              "day           category\n",
              "time          category\n",
              "size             int64\n",
              "dtype: object"
            ]
          },
          "metadata": {},
          "execution_count": 25
        }
      ],
      "source": [
        "# Display the data types in tips dataset\n",
        "\n",
        "tips.dtypes"
      ]
    },
    {
      "cell_type": "code",
      "execution_count": 26,
      "metadata": {
        "colab": {
          "base_uri": "https://localhost:8080/",
          "height": 265
        },
        "id": "ofimpM5GksS1",
        "outputId": "65457af5-c161-45c7-f154-3ba3cf4debc1"
      },
      "outputs": [
        {
          "output_type": "display_data",
          "data": {
            "text/plain": [
              "<Figure size 432x288 with 1 Axes>"
            ],
            "image/png": "[encoded data removed]"
          },
          "metadata": {
            "needs_background": "light"
          }
        }
      ],
      "source": [
        "# Plot the distribution for total_bill\n",
        "\n",
        "plt.hist(tips[\"total_bill\"])\n",
        "plt.show()"
      ]
    },
    {
      "cell_type": "code",
      "execution_count": 27,
      "metadata": {
        "colab": {
          "base_uri": "https://localhost:8080/"
        },
        "id": "qfSfXHnDksSw",
        "outputId": "c249dcd8-ec2f-4c9e-9942-5f048391602e"
      },
      "outputs": [
        {
          "output_type": "execute_result",
          "data": {
            "text/plain": [
              "19.78594262295082"
            ]
          },
          "metadata": {},
          "execution_count": 27
        }
      ],
      "source": [
        "# Compute the mean for total_bill\n",
        "\n",
        "np.mean(tips[\"total_bill\"])"
      ]
    },
    {
      "cell_type": "code",
      "execution_count": 28,
      "metadata": {
        "colab": {
          "base_uri": "https://localhost:8080/"
        },
        "id": "kezXFocwksSz",
        "outputId": "728e9829-8461-4a50-bbe7-02328a751910"
      },
      "outputs": [
        {
          "output_type": "execute_result",
          "data": {
            "text/plain": [
              "17.795"
            ]
          },
          "metadata": {},
          "execution_count": 28
        }
      ],
      "source": [
        "# Compute the median for total_bill\n",
        "np.median(tips[\"total_bill\"])\n"
      ]
    },
    {
      "cell_type": "code",
      "execution_count": 29,
      "metadata": {
        "colab": {
          "base_uri": "https://localhost:8080/"
        },
        "id": "Gj8RyKCBksS0",
        "outputId": "cd9053b8-8763-47b7-da00-5493afb31d3b"
      },
      "outputs": [
        {
          "output_type": "execute_result",
          "data": {
            "text/plain": [
              "8.902411954856856"
            ]
          },
          "metadata": {},
          "execution_count": 29
        }
      ],
      "source": [
        "# Compute the standard deviation for total_bill with the ddof parameter set to 1\n",
        "\n",
        "np.std(tips[\"total_bill\"], ddof=1)"
      ]
    },
    {
      "cell_type": "code",
      "execution_count": 30,
      "metadata": {
        "colab": {
          "base_uri": "https://localhost:8080/",
          "height": 265
        },
        "id": "2BjoZmAyrWPp",
        "outputId": "5062e1f9-f50b-461e-ccf0-3020a85492ac"
      },
      "outputs": [
        {
          "output_type": "display_data",
          "data": {
            "text/plain": [
              "<Figure size 432x288 with 1 Axes>"
            ],
            "image/png": "[encoded data removed]"
          },
          "metadata": {
            "needs_background": "light"
          }
        }
      ],
      "source": [
        "# Plot the distribution for tip\n",
        "\n",
        "plt.hist(tips[\"tip\"])\n",
        "plt.show()"
      ]
    },
    {
      "cell_type": "code",
      "execution_count": 31,
      "metadata": {
        "colab": {
          "base_uri": "https://localhost:8080/"
        },
        "id": "qxphLZssksS2",
        "outputId": "c08f2d47-9333-4381-ca76-a58d4220a291"
      },
      "outputs": [
        {
          "output_type": "execute_result",
          "data": {
            "text/plain": [
              "2.99827868852459"
            ]
          },
          "metadata": {},
          "execution_count": 31
        }
      ],
      "source": [
        "# Compute the mean for tip\n",
        "\n",
        "np.mean(tips[\"tip\"])"
      ]
    },
    {
      "cell_type": "code",
      "execution_count": 32,
      "metadata": {
        "colab": {
          "base_uri": "https://localhost:8080/"
        },
        "id": "rb9px9sPksS2",
        "outputId": "8c8b2a48-2b8e-4754-f902-77be73122d99"
      },
      "outputs": [
        {
          "output_type": "execute_result",
          "data": {
            "text/plain": [
              "2.9"
            ]
          },
          "metadata": {},
          "execution_count": 32
        }
      ],
      "source": [
        "# Compute the median for tip\n",
        "\n",
        "np.median(tips[\"tip\"])"
      ]
    },
    {
      "cell_type": "code",
      "execution_count": 33,
      "metadata": {
        "colab": {
          "base_uri": "https://localhost:8080/"
        },
        "id": "KgbEYOPIksS3",
        "outputId": "8e470b36-427c-4b68-8616-001603111847"
      },
      "outputs": [
        {
          "output_type": "execute_result",
          "data": {
            "text/plain": [
              "1.3836381890011822"
            ]
          },
          "metadata": {},
          "execution_count": 33
        }
      ],
      "source": [
        "# Compute the standard deviation for tip with the ddof parameter set to 1\n",
        "\n",
        "np.std(tips[\"tip\"], ddof=1)"
      ]
    },
    {
      "cell_type": "code",
      "execution_count": 34,
      "metadata": {
        "colab": {
          "base_uri": "https://localhost:8080/",
          "height": 280
        },
        "id": "RZCcbeAqksS3",
        "outputId": "4e5a54fc-3807-406c-ba24-1e00294292e4"
      },
      "outputs": [
        {
          "output_type": "display_data",
          "data": {
            "text/plain": [
              "<Figure size 432x288 with 1 Axes>"
            ],
            "image/png": "[encoded data removed]"
          },
          "metadata": {
            "needs_background": "light"
          }
        }
      ],
      "source": [
        "# Create a scatter plot of tip versus total_bill\n",
        "\n",
        "sn.scatterplot(data=tips, x='total_bill', y='tip')\n",
        "plt.show()"
      ]
    },
    {
      "cell_type": "code",
      "execution_count": 35,
      "metadata": {
        "colab": {
          "base_uri": "https://localhost:8080/"
        },
        "id": "8t7nNfqjksS6",
        "outputId": "71fa4124-ef5f-48e9-8310-34745f903603"
      },
      "outputs": [
        {
          "output_type": "execute_result",
          "data": {
            "text/plain": [
              "0.6757341092113646"
            ]
          },
          "metadata": {},
          "execution_count": 35
        }
      ],
      "source": [
        "# Compute the correlation coefficient for the correlation between total_bill and tip\n",
        "\n",
        "correlation(tips, 'total_bill', 'tip')"
      ]
    }
  ],
  "metadata": {
    "colab": {
      "collapsed_sections": [],
      "provenance": [],
      "include_colab_link": true
    },
    "kernelspec": {
      "display_name": "Python 3.10.7 64-bit (windows store)",
      "language": "python",
      "name": "python3"
    },
    "language_info": {
      "name": "python",
      "version": "3.10.7"
    },
    "vscode": {
      "interpreter": {
        "hash": "0ad27ec13ec98793578d4e8ca718d2536b3825e875b73a9cd789d40489666333"
      }
    }
  },
  "nbformat": 4,
  "nbformat_minor": 0
}