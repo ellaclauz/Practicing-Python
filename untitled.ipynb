{
  "cells": [
    {
      "cell_type": "markdown",
      "metadata": {
        "id": "view-in-github",
        "colab_type": "text"
      },
      "source": [
        "<a href=\"https://colab.research.google.com/github/ellaclauz/Practicing-Python/blob/main/untitled.ipynb\" target=\"_parent\"><img src=\"https://colab.research.google.com/assets/colab-badge.svg\" alt=\"Open In Colab\"/></a>"
      ]
    },
    {
      "cell_type": "markdown",
      "metadata": {
        "id": "gBbKgS70ulSt"
      },
      "source": [
        "Define a function named photo_size that takes in photo_length and photo_width as integer inputs and returns a string as output. Use an if-elif-elif-else structure, comparison operators, logical operators, and the following breakdown of size: The length and width of a \"small\" photo are each between 0 and 4 units, the length and width of a \"medium\" photo are each between 5 and 9 units, the length and width of a \"large\" photo are each between 10 and 14 units, the length and width of a \"extra large\" photo are each between 15 and 19 units, and a photo with any other dimensions is considered \"not standard.\" The function should return either \"small\", \"medium\", \"large\", \"extra large\", or \"not standard\"."
      ]
    },
    {
      "cell_type": "code",
      "execution_count": 1,
      "metadata": {
        "id": "mToHlz3NulSx"
      },
      "outputs": [],
      "source": [
        "def photo_size(photo_length, photo_width):\n",
        "    if 0 < photo_length and photo_length <= 4 and 0 < photo_width and photo_width <= 4:\n",
        "        return 'small'\n",
        "    elif 5 <= photo_length and photo_length <= 9 and 5 <= photo_width and photo_width <= 9:\n",
        "        return 'medium'\n",
        "    elif 10 <= photo_length and photo_length <= 14 and 10 <= photo_width and photo_width <= 14:\n",
        "        return 'large'\n",
        "    elif 15 <= photo_length and photo_length <= 19 and 15 <= photo_width and photo_width <= 19:\n",
        "        return 'extra large'\n",
        "    else:\n",
        "        return 'not standard'"
      ]
    },
    {
      "cell_type": "code",
      "execution_count": 2,
      "metadata": {
        "id": "A_etXXhSulSy"
      },
      "outputs": [],
      "source": [
        "photo_length = 6"
      ]
    },
    {
      "cell_type": "code",
      "execution_count": 3,
      "metadata": {
        "colab": {
          "base_uri": "https://localhost:8080/"
        },
        "id": "vWZhPLp-ulSz",
        "outputId": "9f7d6062-75b4-4baa-bd89-94469f60014a"
      },
      "outputs": [
        {
          "output_type": "execute_result",
          "data": {
            "text/plain": [
              "True"
            ]
          },
          "metadata": {},
          "execution_count": 3
        }
      ],
      "source": [
        "5 <= photo_length"
      ]
    },
    {
      "cell_type": "code",
      "execution_count": 4,
      "metadata": {
        "colab": {
          "base_uri": "https://localhost:8080/"
        },
        "id": "EuODqJlYulS0",
        "outputId": "9acd3f08-938e-4dfb-9380-6772447c1310"
      },
      "outputs": [
        {
          "output_type": "execute_result",
          "data": {
            "text/plain": [
              "False"
            ]
          },
          "metadata": {},
          "execution_count": 4
        }
      ],
      "source": [
        "5>= photo_length"
      ]
    },
    {
      "cell_type": "code",
      "execution_count": 5,
      "metadata": {
        "colab": {
          "base_uri": "https://localhost:8080/",
          "height": 36
        },
        "id": "z2NkU0LQulS0",
        "outputId": "15347910-ea83-4708-9d15-e7cae0e237a7"
      },
      "outputs": [
        {
          "output_type": "execute_result",
          "data": {
            "text/plain": [
              "'small'"
            ],
            "application/vnd.google.colaboratory.intrinsic+json": {
              "type": "string"
            }
          },
          "metadata": {},
          "execution_count": 5
        }
      ],
      "source": [
        "photo_size(3, 4)"
      ]
    },
    {
      "cell_type": "code",
      "execution_count": 6,
      "metadata": {
        "colab": {
          "base_uri": "https://localhost:8080/",
          "height": 36
        },
        "id": "_ttakrgQulS1",
        "outputId": "1cec4ab5-57a7-4a00-b610-ad031ba900bc"
      },
      "outputs": [
        {
          "output_type": "execute_result",
          "data": {
            "text/plain": [
              "'medium'"
            ],
            "application/vnd.google.colaboratory.intrinsic+json": {
              "type": "string"
            }
          },
          "metadata": {},
          "execution_count": 6
        }
      ],
      "source": [
        "photo_size(5, 7)"
      ]
    },
    {
      "cell_type": "code",
      "execution_count": 7,
      "metadata": {
        "colab": {
          "base_uri": "https://localhost:8080/",
          "height": 36
        },
        "id": "GOabGLhGulS1",
        "outputId": "760e262c-9cfa-46ae-c85b-93ee66998639"
      },
      "outputs": [
        {
          "output_type": "execute_result",
          "data": {
            "text/plain": [
              "'not standard'"
            ],
            "application/vnd.google.colaboratory.intrinsic+json": {
              "type": "string"
            }
          },
          "metadata": {},
          "execution_count": 7
        }
      ],
      "source": [
        "photo_size(4, 5)"
      ]
    },
    {
      "cell_type": "code",
      "execution_count": 8,
      "metadata": {
        "colab": {
          "base_uri": "https://localhost:8080/",
          "height": 36
        },
        "id": "PwO3lbb5ulS2",
        "outputId": "2f620637-14a8-4711-c1bd-9dd7286a7659"
      },
      "outputs": [
        {
          "output_type": "execute_result",
          "data": {
            "text/plain": [
              "'extra large'"
            ],
            "application/vnd.google.colaboratory.intrinsic+json": {
              "type": "string"
            }
          },
          "metadata": {},
          "execution_count": 8
        }
      ],
      "source": [
        "photo_size(16, 18)"
      ]
    },
    {
      "cell_type": "code",
      "execution_count": 9,
      "metadata": {
        "colab": {
          "base_uri": "https://localhost:8080/",
          "height": 36
        },
        "id": "5VeoNqAGulS3",
        "outputId": "82511661-0719-4f14-8c01-28e41351280a"
      },
      "outputs": [
        {
          "output_type": "execute_result",
          "data": {
            "text/plain": [
              "'large'"
            ],
            "application/vnd.google.colaboratory.intrinsic+json": {
              "type": "string"
            }
          },
          "metadata": {},
          "execution_count": 9
        }
      ],
      "source": [
        "photo_size(10, 12)"
      ]
    }
  ],
  "metadata": {
    "kernelspec": {
      "display_name": "Python 3.10.6 64-bit (windows store)",
      "language": "python",
      "name": "python3"
    },
    "language_info": {
      "codemirror_mode": {
        "name": "ipython",
        "version": 3
      },
      "file_extension": ".py",
      "mimetype": "text/x-python",
      "name": "python",
      "nbconvert_exporter": "python",
      "pygments_lexer": "ipython3",
      "version": "3.10.6"
    },
    "orig_nbformat": 4,
    "vscode": {
      "interpreter": {
        "hash": "0ad27ec13ec98793578d4e8ca718d2536b3825e875b73a9cd789d40489666333"
      }
    },
    "colab": {
      "provenance": [],
      "include_colab_link": true
    }
  },
  "nbformat": 4,
  "nbformat_minor": 0
}